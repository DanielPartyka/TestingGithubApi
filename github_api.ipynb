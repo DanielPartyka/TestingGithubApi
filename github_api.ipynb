{
 "cells": [
  {
   "cell_type": "code",
   "execution_count": null,
   "id": "861baa35",
   "metadata": {},
   "outputs": [],
   "source": [
    "# instalacja bibliotek\n",
    "%pip install requests\n",
    "%pip install PrettyTable"
   ]
  },
  {
   "cell_type": "code",
   "execution_count": null,
   "id": "4334ea49",
   "metadata": {},
   "outputs": [],
   "source": [
    "# importy bibliotek\n",
    "import requests\n",
    "import json\n",
    "from IPython import display\n",
    "from prettytable import PrettyTable\n",
    "from prettytable import PLAIN_COLUMNS\n",
    "\n",
    "# nazwa uzytkownika i token\n",
    "USERNAME = ''\n",
    "ACCESS_KEY = ''\n",
    "\n",
    "request = requests.get(f'https://api.github.com/users/{USERNAME}/repos', auth=(USERNAME, ACCESS_KEY))\n",
    "repositories = request.json()\n",
    "\n",
    "for repos in repositories:\n",
    "    avatar_url = repos['owner']['avatar_url']\n",
    "    avatar_url += \".png\"\n",
    "    break"
   ]
  },
  {
   "cell_type": "code",
   "execution_count": null,
   "id": "f0eaee24",
   "metadata": {
    "scrolled": true
   },
   "outputs": [],
   "source": [
    "# wyswietl zdjecie profilowe na githubie\n",
    "display.Image(avatar_url)"
   ]
  },
  {
   "cell_type": "code",
   "execution_count": null,
   "id": "355cd044",
   "metadata": {},
   "outputs": [],
   "source": [
    "x = PrettyTable()\n",
    "x.field_names = [\"Name\", \"Size\", \"Contributors Count\", \"Branch\", \"Is Protected\"]\n",
    "\n",
    "x.align['Name'] = \"l\"\n",
    "x.align['Size'] = \"r\"\n",
    "x.align['Contributors Count'] = \"r\"\n",
    "x.align['Branch'] = \"l\"\n",
    "x.align['Is Protected'] = \"l\"\n",
    "\n",
    "# wlasna przedzialka poniewaz nie wiedzialem jaka funkcja za to odpowiada\n",
    "x.add_row(['-------------------------------------','------', '--------------------','--------', '---------------'])\n",
    "for repos in repositories:\n",
    "    contributors_count = 0\n",
    "    name = repos['name']\n",
    "    size = repos['size']\n",
    "    branch = repos['default_branch']\n",
    "    # sprawdz czy branch nie jest pusty\n",
    "    if branch == None or branch == 0:\n",
    "        branch = '---'\n",
    "    \n",
    "    # liczenie kontrybutorów\n",
    "    contributors_api = repos['contributors_url']\n",
    "    request_contributors = requests.get(contributors_api, auth=(USERNAME, ACCESS_KEY))\n",
    "    contributors = request_contributors.json()\n",
    "    for con in contributors:\n",
    "        contributors_count += 1\n",
    "    \n",
    "    # sprawdzanie czy branch jest chroniony\n",
    "    is_protected = \"---\"\n",
    "    request_branch = requests.get(f'https://api.github.com/repos/{USERNAME}/{name}/branches', auth=(USERNAME, ACCESS_KEY))\n",
    "    branch_protection = request_branch.json()\n",
    "    for protection in branch_protection:\n",
    "        if protection['protected'] != None:\n",
    "            is_protected = protection['protected']\n",
    "    # stworz wiersz z danymi\n",
    "    x.add_row([name, size, contributors_count, branch, is_protected])\n",
    "    \n",
    "x.set_style(PLAIN_COLUMNS)\n",
    "print(x)"
   ]
  },
  {
   "cell_type": "code",
   "execution_count": null,
   "id": "923a7569",
   "metadata": {},
   "outputs": [],
   "source": [
    "# Pytanie: Czy czas działania Twojego rozwiązania da się skrócić?\n",
    "# Odp: Zapewne tak np. poprzez wykorzystane zapytań asynchronicznych lub lepsze sprawdzanie protekcji branch'y"
   ]
  }
 ],
 "metadata": {
  "kernelspec": {
   "display_name": "Python 3 (ipykernel)",
   "language": "python",
   "name": "python3"
  },
  "language_info": {
   "codemirror_mode": {
    "name": "ipython",
    "version": 3
   },
   "file_extension": ".py",
   "mimetype": "text/x-python",
   "name": "python",
   "nbconvert_exporter": "python",
   "pygments_lexer": "ipython3",
   "version": "3.9.12"
  }
 },
 "nbformat": 4,
 "nbformat_minor": 5
}
